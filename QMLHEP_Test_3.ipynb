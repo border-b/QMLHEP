{
  "nbformat": 4,
  "nbformat_minor": 0,
  "metadata": {
    "colab": {
      "provenance": [],
      "authorship_tag": "ABX9TyMUOlkTfD2u/UMl5uHoqBb7",
      "include_colab_link": true
    },
    "kernelspec": {
      "name": "python3",
      "display_name": "Python 3"
    },
    "language_info": {
      "name": "python"
    }
  },
  "cells": [
    {
      "cell_type": "markdown",
      "metadata": {
        "id": "view-in-github",
        "colab_type": "text"
      },
      "source": [
        "<a href=\"https://colab.research.google.com/github/border-b/QMLHEP/blob/main/QMLHEP_Test_3.ipynb\" target=\"_parent\"><img src=\"https://colab.research.google.com/assets/colab-badge.svg\" alt=\"Open In Colab\"/></a>"
      ]
    },
    {
      "cell_type": "markdown",
      "source": [
        "### **Task III: Open Task**\n",
        "Please comment on quantum computing or quantum machine learning. You can also comment on one quantum algorithm or one quantum software you are familiar with. You can also suggest methods you think are good and you would like to work on. Please use your own understanding. Comments copied from the internet will not be considered.\n"
      ],
      "metadata": {
        "id": "qNyiJcuEcooz"
      }
    },
    {
      "cell_type": "markdown",
      "source": [
        "The field of Quantum Computing is extremely intriguing and is developing quickly. It has the ability to completely change how we process and retain information. The possibilities are boundless. It can be used for everything from cryptography to finding new pharmaceuticals to enhancing complicated systems. The vast implications are what make this field so fascinating! As Scott Aaronson said, \"The ultimate goal of quantum computing is not just to beat classical computers at their own game, but to enable new kinds of computation that were never before possible.\"\n",
        "\n",
        "Quantum Machine Learning is a blooming field that has garnered significant interest in recent years, and there are some groundbreaking stuff going on in this sector. For example, I've found the work by Temme et al. absolutely fascinating. They demonstrate how a quantum-enhanced feature space, in which each data point is non linearly translated to a quantum state and then classified by a linear classifier in the high dimensional Hilbert space, may be used to achieve an exponential quantum speed-up. [1] The proposed result establishes a positive theoretical groundwork for machine learning’s pursuit of the practical quantum advantage. During my undergraduate thesis, I've worked with real-world datasets that presented significant challenges for classical computers. While quantum computers have the potential to outperform their classical counterparts, there are still obstacles to overcome, including limited hardware resources and high error rates. To address the issue of limited resources, I've explored the potential of quantum autoencoders and Bloch sphere encoding. Both approaches have promising applications for data compression and feature extraction, which could help to improve the performance of quantum algorithms on real-world datasets. While I was working on constructing feature maps for Quantum Support Vector Machines, I stumbled upon something interesting. I found that if we include rotational gates and entanglement as user-defined parameters before encoding the input to a quantum state, we can sometimes get significantly more accurate results. Of course, there's still a lot of work to be done to ensure that these results are consistent and reliable, and there is some significant drawback regarding the time needed to train the model. But it's going to be exciting to see how quantum computing can potentially improve machine learning in the future."
      ],
      "metadata": {
        "id": "w9rUKrG_ALt9"
      }
    },
    {
      "cell_type": "markdown",
      "source": [
        "References\n",
        "\n",
        "[1] [Supervised learning with quantum enhanced feature spaces](https://arxiv.org/abs/1804.11326)"
      ],
      "metadata": {
        "id": "kACThbxudlOY"
      }
    }
  ]
}